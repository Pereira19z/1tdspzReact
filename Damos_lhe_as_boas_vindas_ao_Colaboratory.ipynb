{
  "cells": [
    {
      "cell_type": "markdown",
      "metadata": {
        "id": "view-in-github",
        "colab_type": "text"
      },
      "source": [
        "<a href=\"https://colab.research.google.com/github/Pereira19z/1tdspzReact/blob/main/Damos_lhe_as_boas_vindas_ao_Colaboratory.ipynb\" target=\"_parent\"><img src=\"https://colab.research.google.com/assets/colab-badge.svg\" alt=\"Open In Colab\"/></a>"
      ]
    },
    {
      "cell_type": "code",
      "source": [
        "import pandas as pd\n",
        "from sklearn.preprocessing import MinMaxScaler, StandardScaler\n",
        "from sklearn.model_selection import train_test_split\n",
        "from sklearn.neural_network import MLPClassifier"
      ],
      "metadata": {
        "id": "BB0VpQJyhDWH"
      },
      "execution_count": 4,
      "outputs": []
    },
    {
      "cell_type": "code",
      "source": [
        "df = pd.read_csv(\"apartamento-full.csv\")"
      ],
      "metadata": {
        "id": "CR1lOYUrhKpv"
      },
      "execution_count": 5,
      "outputs": []
    },
    {
      "cell_type": "code",
      "source": [
        "df.columns = ['metros', 'quartos', 'garagem', 'valor', 'classe']"
      ],
      "metadata": {
        "id": "-cAwn1XEhRZH"
      },
      "execution_count": 6,
      "outputs": []
    },
    {
      "cell_type": "code",
      "source": [
        "scaler = MinMaxScaler(feature_range=(0, 10))\n",
        "df_normalized = pd.DataFrame(scaler.fit_transform(df.drop('classe', axis=1)), columns=['metros', 'quartos', 'garagem', 'valor'])"
      ],
      "metadata": {
        "id": "Oygs7XLNhTFv"
      },
      "execution_count": 7,
      "outputs": []
    },
    {
      "cell_type": "code",
      "source": [
        "print(\"Dados normalizados entre 0 e 10:\")\n",
        "print(df_normalized.head())"
      ],
      "metadata": {
        "id": "Ngz26MoyhVEY",
        "outputId": "51e6429f-4887-458f-c964-2628c02b6ec5",
        "colab": {
          "base_uri": "https://localhost:8080/"
        }
      },
      "execution_count": 8,
      "outputs": [
        {
          "output_type": "stream",
          "name": "stdout",
          "text": [
            "Dados normalizados entre 0 e 10:\n",
            "    metros  quartos  garagem     valor\n",
            "0  0.00000      0.0      0.0  0.861314\n",
            "1  0.00000      0.0      0.0  1.313869\n",
            "2  0.00000      0.0      0.0  0.000000\n",
            "3  0.09434      0.0      0.0  1.007299\n",
            "4  0.09434      0.0      0.0  1.007299\n"
          ]
        }
      ]
    },
    {
      "cell_type": "code",
      "source": [
        "scaler_std = StandardScaler()\n",
        "df_std_normalized = pd.DataFrame(scaler_std.fit_transform(df.drop('classe', axis=1)), columns=['metros', 'quartos', 'garagem', 'valor'])"
      ],
      "metadata": {
        "id": "4uaiZO2EhZBI"
      },
      "execution_count": 9,
      "outputs": []
    },
    {
      "cell_type": "code",
      "source": [
        "print(\"\\nDados normalizados usando desvio padrão:\")\n",
        "print(df_std_normalized.head())"
      ],
      "metadata": {
        "id": "K1MfZEPxhbeg",
        "outputId": "64e0f910-9afd-4692-cb84-699d5a60c87b",
        "colab": {
          "base_uri": "https://localhost:8080/"
        }
      },
      "execution_count": 10,
      "outputs": [
        {
          "output_type": "stream",
          "name": "stdout",
          "text": [
            "\n",
            "Dados normalizados usando desvio padrão:\n",
            "     metros   quartos  garagem     valor\n",
            "0 -1.167589 -1.698416 -1.70222 -1.041482\n",
            "1 -1.167589 -1.698416 -1.70222 -0.856341\n",
            "2 -1.167589 -1.698416 -1.70222 -1.393846\n",
            "3 -1.130412 -1.698416 -1.70222 -0.981759\n",
            "4 -1.130412 -1.698416 -1.70222 -0.981759\n"
          ]
        }
      ]
    },
    {
      "cell_type": "code",
      "source": [
        "X_train, X_test, y_train, y_test = train_test_split(df_normalized, df['classe'], test_size=0.35, random_state=42)\n"
      ],
      "metadata": {
        "id": "0jIVL8vbhkUo"
      },
      "execution_count": 11,
      "outputs": []
    },
    {
      "cell_type": "code",
      "source": [
        "mlp = MLPClassifier(hidden_layer_sizes=(8, 4), random_state=42)\n"
      ],
      "metadata": {
        "id": "ZknxqtjhhmCI"
      },
      "execution_count": 12,
      "outputs": []
    },
    {
      "cell_type": "code",
      "source": [
        "mlp.fit(X_train, y_train)\n"
      ],
      "metadata": {
        "id": "FmTOOM5FhneQ",
        "outputId": "eb4a49d9-74a4-4121-8b24-639e65dd6213",
        "colab": {
          "base_uri": "https://localhost:8080/",
          "height": 129
        }
      },
      "execution_count": 13,
      "outputs": [
        {
          "output_type": "stream",
          "name": "stderr",
          "text": [
            "/usr/local/lib/python3.10/dist-packages/sklearn/neural_network/_multilayer_perceptron.py:686: ConvergenceWarning: Stochastic Optimizer: Maximum iterations (200) reached and the optimization hasn't converged yet.\n",
            "  warnings.warn(\n"
          ]
        },
        {
          "output_type": "execute_result",
          "data": {
            "text/plain": [
              "MLPClassifier(hidden_layer_sizes=(8, 4), random_state=42)"
            ],
            "text/html": [
              "<style>#sk-container-id-1 {color: black;background-color: white;}#sk-container-id-1 pre{padding: 0;}#sk-container-id-1 div.sk-toggleable {background-color: white;}#sk-container-id-1 label.sk-toggleable__label {cursor: pointer;display: block;width: 100%;margin-bottom: 0;padding: 0.3em;box-sizing: border-box;text-align: center;}#sk-container-id-1 label.sk-toggleable__label-arrow:before {content: \"▸\";float: left;margin-right: 0.25em;color: #696969;}#sk-container-id-1 label.sk-toggleable__label-arrow:hover:before {color: black;}#sk-container-id-1 div.sk-estimator:hover label.sk-toggleable__label-arrow:before {color: black;}#sk-container-id-1 div.sk-toggleable__content {max-height: 0;max-width: 0;overflow: hidden;text-align: left;background-color: #f0f8ff;}#sk-container-id-1 div.sk-toggleable__content pre {margin: 0.2em;color: black;border-radius: 0.25em;background-color: #f0f8ff;}#sk-container-id-1 input.sk-toggleable__control:checked~div.sk-toggleable__content {max-height: 200px;max-width: 100%;overflow: auto;}#sk-container-id-1 input.sk-toggleable__control:checked~label.sk-toggleable__label-arrow:before {content: \"▾\";}#sk-container-id-1 div.sk-estimator input.sk-toggleable__control:checked~label.sk-toggleable__label {background-color: #d4ebff;}#sk-container-id-1 div.sk-label input.sk-toggleable__control:checked~label.sk-toggleable__label {background-color: #d4ebff;}#sk-container-id-1 input.sk-hidden--visually {border: 0;clip: rect(1px 1px 1px 1px);clip: rect(1px, 1px, 1px, 1px);height: 1px;margin: -1px;overflow: hidden;padding: 0;position: absolute;width: 1px;}#sk-container-id-1 div.sk-estimator {font-family: monospace;background-color: #f0f8ff;border: 1px dotted black;border-radius: 0.25em;box-sizing: border-box;margin-bottom: 0.5em;}#sk-container-id-1 div.sk-estimator:hover {background-color: #d4ebff;}#sk-container-id-1 div.sk-parallel-item::after {content: \"\";width: 100%;border-bottom: 1px solid gray;flex-grow: 1;}#sk-container-id-1 div.sk-label:hover label.sk-toggleable__label {background-color: #d4ebff;}#sk-container-id-1 div.sk-serial::before {content: \"\";position: absolute;border-left: 1px solid gray;box-sizing: border-box;top: 0;bottom: 0;left: 50%;z-index: 0;}#sk-container-id-1 div.sk-serial {display: flex;flex-direction: column;align-items: center;background-color: white;padding-right: 0.2em;padding-left: 0.2em;position: relative;}#sk-container-id-1 div.sk-item {position: relative;z-index: 1;}#sk-container-id-1 div.sk-parallel {display: flex;align-items: stretch;justify-content: center;background-color: white;position: relative;}#sk-container-id-1 div.sk-item::before, #sk-container-id-1 div.sk-parallel-item::before {content: \"\";position: absolute;border-left: 1px solid gray;box-sizing: border-box;top: 0;bottom: 0;left: 50%;z-index: -1;}#sk-container-id-1 div.sk-parallel-item {display: flex;flex-direction: column;z-index: 1;position: relative;background-color: white;}#sk-container-id-1 div.sk-parallel-item:first-child::after {align-self: flex-end;width: 50%;}#sk-container-id-1 div.sk-parallel-item:last-child::after {align-self: flex-start;width: 50%;}#sk-container-id-1 div.sk-parallel-item:only-child::after {width: 0;}#sk-container-id-1 div.sk-dashed-wrapped {border: 1px dashed gray;margin: 0 0.4em 0.5em 0.4em;box-sizing: border-box;padding-bottom: 0.4em;background-color: white;}#sk-container-id-1 div.sk-label label {font-family: monospace;font-weight: bold;display: inline-block;line-height: 1.2em;}#sk-container-id-1 div.sk-label-container {text-align: center;}#sk-container-id-1 div.sk-container {/* jupyter's `normalize.less` sets `[hidden] { display: none; }` but bootstrap.min.css set `[hidden] { display: none !important; }` so we also need the `!important` here to be able to override the default hidden behavior on the sphinx rendered scikit-learn.org. See: https://github.com/scikit-learn/scikit-learn/issues/21755 */display: inline-block !important;position: relative;}#sk-container-id-1 div.sk-text-repr-fallback {display: none;}</style><div id=\"sk-container-id-1\" class=\"sk-top-container\"><div class=\"sk-text-repr-fallback\"><pre>MLPClassifier(hidden_layer_sizes=(8, 4), random_state=42)</pre><b>In a Jupyter environment, please rerun this cell to show the HTML representation or trust the notebook. <br />On GitHub, the HTML representation is unable to render, please try loading this page with nbviewer.org.</b></div><div class=\"sk-container\" hidden><div class=\"sk-item\"><div class=\"sk-estimator sk-toggleable\"><input class=\"sk-toggleable__control sk-hidden--visually\" id=\"sk-estimator-id-1\" type=\"checkbox\" checked><label for=\"sk-estimator-id-1\" class=\"sk-toggleable__label sk-toggleable__label-arrow\">MLPClassifier</label><div class=\"sk-toggleable__content\"><pre>MLPClassifier(hidden_layer_sizes=(8, 4), random_state=42)</pre></div></div></div></div></div>"
            ]
          },
          "metadata": {},
          "execution_count": 13
        }
      ]
    },
    {
      "cell_type": "code",
      "source": [
        "accuracy = mlp.score(X_test, y_test)\n",
        "print(f\"\\nAcurácia do modelo: {accuracy}\")"
      ],
      "metadata": {
        "id": "_1YO72kLhqJg",
        "outputId": "866d8d72-d037-4d99-8379-85cc6be5d6ad",
        "colab": {
          "base_uri": "https://localhost:8080/"
        }
      },
      "execution_count": 14,
      "outputs": [
        {
          "output_type": "stream",
          "name": "stdout",
          "text": [
            "\n",
            "Acurácia do modelo: 0.4444444444444444\n"
          ]
        }
      ]
    },
    {
      "cell_type": "markdown",
      "source": [
        "10 - Faça o código que nos permite avaliar o modelo gerado com e exibir os resultados obtidos.\n",
        "\n",
        "Este código adiciona a matriz de confusão e o relatório de classificação ao final do processo de avaliação do modelo, fornecendo informações mais detalhadas sobre o desempenho do classificador em cada classe."
      ],
      "metadata": {
        "id": "-xBgnrkQjOKB"
      }
    },
    {
      "cell_type": "markdown",
      "source": [
        "11 - Descreva com suas palavras o que como você classifica o resultado e o que poderia ser feito para aumentar a assertividade.\n",
        "\n",
        "1 - Experimentar diferentes arquiteturas de rede neural, como alterar o número de camadas ocultas ou o número de neurônios em cada camada.\n",
        "\n",
        "2 - Ajustar os hiperparâmetros do modelo, como a taxa de aprendizado, o número máximo de iterações e o tamanho do lote.\n",
        "\n",
        "3 - Realizar uma análise mais detalhada das características dos apartamentos em cada classe para identificar padrões mais distintos."
      ],
      "metadata": {
        "id": "v2cb81YfjQu5"
      }
    }
  ],
  "metadata": {
    "colab": {
      "name": "Damos-lhe as boas-vindas ao Colaboratory",
      "provenance": [],
      "include_colab_link": true
    },
    "kernelspec": {
      "display_name": "Python 3",
      "name": "python3"
    }
  },
  "nbformat": 4,
  "nbformat_minor": 0
}
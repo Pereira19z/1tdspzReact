{
  "nbformat": 4,
  "nbformat_minor": 0,
  "metadata": {
    "colab": {
      "provenance": [],
      "authorship_tag": "ABX9TyN/WJMlbIGaUenAa0XaGsHK",
      "include_colab_link": true
    },
    "kernelspec": {
      "name": "python3",
      "display_name": "Python 3"
    },
    "language_info": {
      "name": "python"
    }
  },
  "cells": [
    {
      "cell_type": "markdown",
      "metadata": {
        "id": "view-in-github",
        "colab_type": "text"
      },
      "source": [
        "<a href=\"https://colab.research.google.com/github/Pereira19z/1tdspzReact/blob/main/CP3.ipynb\" target=\"_parent\"><img src=\"https://colab.research.google.com/assets/colab-badge.svg\" alt=\"Open In Colab\"/></a>"
      ]
    },
    {
      "cell_type": "code",
      "source": [
        "import tensorflow as tf\n",
        "from tensorflow import keras"
      ],
      "metadata": {
        "id": "cWSUHKZnr6px"
      },
      "execution_count": 26,
      "outputs": []
    },
    {
      "cell_type": "code",
      "source": [
        "from tensorflow.keras import layers\n",
        "\n",
        "\n",
        "model = keras.Sequential([\n",
        "    layers.Dense(units=1, input_shape=[1])\n",
        "])\n",
        "\n",
        "model.summary()"
      ],
      "metadata": {
        "colab": {
          "base_uri": "https://localhost:8080/"
        },
        "id": "AIQYdtaxr7jx",
        "outputId": "e7949e5b-c99d-45a9-e362-2cba0cf56c5f"
      },
      "execution_count": 27,
      "outputs": [
        {
          "output_type": "stream",
          "name": "stdout",
          "text": [
            "Model: \"sequential_1\"\n",
            "_________________________________________________________________\n",
            " Layer (type)                Output Shape              Param #   \n",
            "=================================================================\n",
            " dense_1 (Dense)             (None, 1)                 2         \n",
            "                                                                 \n",
            "=================================================================\n",
            "Total params: 2 (8.00 Byte)\n",
            "Trainable params: 2 (8.00 Byte)\n",
            "Non-trainable params: 0 (0.00 Byte)\n",
            "_________________________________________________________________\n"
          ]
        }
      ]
    },
    {
      "cell_type": "code",
      "source": [
        "import pandas as pd\n",
        "from sklearn.model_selection import train_test_split\n",
        "from sklearn.preprocessing import MinMaxScaler\n",
        "from tensorflow.keras.models import Sequential\n",
        "from tensorflow.keras.layers import Dense\n",
        "\n",
        "\n",
        "data = pd.read_csv('/content/prob_admissao.csv')\n",
        "df.info()\n",
        "X = data.iloc[:, :-1]  # Todas as colunas, exceto a última (que é a saída)\n",
        "y = data.iloc[:, -1]   # A última coluna é a saída\n",
        "\n",
        "# Exibir os primeiros registros para verificar se a separação foi feita corretamente\n",
        "print(X.head())\n",
        "print(y.head())\n"
      ],
      "metadata": {
        "colab": {
          "base_uri": "https://localhost:8080/"
        },
        "id": "y6NDLHbBr-v4",
        "outputId": "1df82377-4f23-4c0c-8478-affec248dc5d"
      },
      "execution_count": 33,
      "outputs": [
        {
          "output_type": "stream",
          "name": "stdout",
          "text": [
            "<class 'pandas.core.frame.DataFrame'>\n",
            "RangeIndex: 400 entries, 0 to 399\n",
            "Data columns (total 8 columns):\n",
            " #   Column             Non-Null Count  Dtype  \n",
            "---  ------             --------------  -----  \n",
            " 0   GRE Score          400 non-null    int64  \n",
            " 1   TOEFL Score        400 non-null    int64  \n",
            " 2   University Rating  400 non-null    int64  \n",
            " 3   SOP                400 non-null    float64\n",
            " 4   LOR                400 non-null    float64\n",
            " 5   CGPA               400 non-null    float64\n",
            " 6   Research           400 non-null    int64  \n",
            " 7   Chance of Admit    400 non-null    float64\n",
            "dtypes: float64(4), int64(4)\n",
            "memory usage: 25.1 KB\n",
            "   GRE Score  TOEFL Score  University Rating  SOP  LOR   CGPA  Research\n",
            "0        315          105                  3  2.0   2.5  8.48         0\n",
            "1        321          112                  5  5.0   5.0  9.06         1\n",
            "2        327          103                  3  4.0   4.0  8.30         1\n",
            "3        305          112                  3  3.0   3.5  8.65         0\n",
            "4        297           96                  2  2.5   1.5  7.89         0\n",
            "0    0.75\n",
            "1    0.86\n",
            "2    0.74\n",
            "3    0.71\n",
            "4    0.43\n",
            "Name: Chance of Admit , dtype: float64\n"
          ]
        }
      ]
    },
    {
      "cell_type": "code",
      "source": [
        "scaler = MinMaxScaler()\n",
        "X_normalized = scaler.fit_transform(X)\n",
        "\n",
        "# Dividir os dados em conjunto de treinamento e teste\n",
        "X_train, X_test, y_train, y_test = train_test_split(X_normalized, y, test_size=0.3, random_state=42)\n"
      ],
      "metadata": {
        "id": "Z6rFeU9FuRdi"
      },
      "execution_count": 34,
      "outputs": []
    },
    {
      "cell_type": "code",
      "source": [
        "model = Sequential()"
      ],
      "metadata": {
        "id": "TIE9X5afuSiC"
      },
      "execution_count": 35,
      "outputs": []
    },
    {
      "cell_type": "code",
      "source": [
        "model.add(Dense(1, input_dim=X.shape[1], activation='relu'))\n"
      ],
      "metadata": {
        "id": "tHsXjidzuUuS"
      },
      "execution_count": 36,
      "outputs": []
    },
    {
      "cell_type": "code",
      "source": [
        "model.add(Dense(1, activation='linear'))\n"
      ],
      "metadata": {
        "id": "l6tOmRAfuXIK"
      },
      "execution_count": 37,
      "outputs": []
    },
    {
      "cell_type": "code",
      "source": [
        "model.compile(optimizer='adam', loss='mse')\n"
      ],
      "metadata": {
        "id": "U8Aac34EuYqR"
      },
      "execution_count": 38,
      "outputs": []
    },
    {
      "cell_type": "code",
      "source": [
        "model.summary()\n"
      ],
      "metadata": {
        "colab": {
          "base_uri": "https://localhost:8080/"
        },
        "id": "zS4mboECubaC",
        "outputId": "15e6ea36-a231-4405-ebc5-438d6e521ab2"
      },
      "execution_count": 39,
      "outputs": [
        {
          "output_type": "stream",
          "name": "stdout",
          "text": [
            "Model: \"sequential_2\"\n",
            "_________________________________________________________________\n",
            " Layer (type)                Output Shape              Param #   \n",
            "=================================================================\n",
            " dense_2 (Dense)             (None, 1)                 8         \n",
            "                                                                 \n",
            " dense_3 (Dense)             (None, 1)                 2         \n",
            "                                                                 \n",
            "=================================================================\n",
            "Total params: 10 (40.00 Byte)\n",
            "Trainable params: 10 (40.00 Byte)\n",
            "Non-trainable params: 0 (0.00 Byte)\n",
            "_________________________________________________________________\n"
          ]
        }
      ]
    },
    {
      "cell_type": "code",
      "source": [
        "history = model.fit(X_train, y_train, epochs=10, verbose=1)\n"
      ],
      "metadata": {
        "colab": {
          "base_uri": "https://localhost:8080/"
        },
        "id": "c8NQidmRuc6a",
        "outputId": "0e284233-01c3-4097-d14a-c88d81b3d713"
      },
      "execution_count": 40,
      "outputs": [
        {
          "output_type": "stream",
          "name": "stdout",
          "text": [
            "Epoch 1/10\n",
            "9/9 [==============================] - 1s 3ms/step - loss: 0.1035\n",
            "Epoch 2/10\n",
            "9/9 [==============================] - 0s 3ms/step - loss: 0.0964\n",
            "Epoch 3/10\n",
            "9/9 [==============================] - 0s 2ms/step - loss: 0.0905\n",
            "Epoch 4/10\n",
            "9/9 [==============================] - 0s 3ms/step - loss: 0.0856\n",
            "Epoch 5/10\n",
            "9/9 [==============================] - 0s 2ms/step - loss: 0.0810\n",
            "Epoch 6/10\n",
            "9/9 [==============================] - 0s 2ms/step - loss: 0.0769\n",
            "Epoch 7/10\n",
            "9/9 [==============================] - 0s 4ms/step - loss: 0.0731\n",
            "Epoch 8/10\n",
            "9/9 [==============================] - 0s 3ms/step - loss: 0.0695\n",
            "Epoch 9/10\n",
            "9/9 [==============================] - 0s 2ms/step - loss: 0.0662\n",
            "Epoch 10/10\n",
            "9/9 [==============================] - 0s 3ms/step - loss: 0.0630\n"
          ]
        }
      ]
    },
    {
      "cell_type": "code",
      "source": [
        "candidates = [\n",
        "    [305, 112, 3, 3.0, 3.5, 8.65, 0],\n",
        "    [297, 96, 2, 2.5, 1.5, 7.89, 0],\n",
        "    [305, 103, 2, 2.5, 3.5, 8.13, 0],\n",
        "    [308, 108, 4, 4.5, 5.0, 8.34, 0]\n",
        "]"
      ],
      "metadata": {
        "id": "gGFq8GwXuevi"
      },
      "execution_count": 41,
      "outputs": []
    },
    {
      "cell_type": "code",
      "source": [
        "candidates_normalized = scaler.transform(candidates)\n"
      ],
      "metadata": {
        "colab": {
          "base_uri": "https://localhost:8080/"
        },
        "id": "0rnuK4U8uhAR",
        "outputId": "18ee6cce-ed74-40f9-d903-00b287c20871"
      },
      "execution_count": 42,
      "outputs": [
        {
          "output_type": "stream",
          "name": "stderr",
          "text": [
            "/usr/local/lib/python3.10/dist-packages/sklearn/base.py:439: UserWarning: X does not have valid feature names, but MinMaxScaler was fitted with feature names\n",
            "  warnings.warn(\n"
          ]
        }
      ]
    },
    {
      "cell_type": "code",
      "source": [
        "predictions = model.predict(candidates_normalized)\n"
      ],
      "metadata": {
        "colab": {
          "base_uri": "https://localhost:8080/"
        },
        "id": "pbaG4rZsuil6",
        "outputId": "f218b620-da08-4578-ce84-bf82619cc365"
      },
      "execution_count": 43,
      "outputs": [
        {
          "output_type": "stream",
          "name": "stdout",
          "text": [
            "1/1 [==============================] - 0s 86ms/step\n"
          ]
        }
      ]
    },
    {
      "cell_type": "code",
      "source": [
        "for i, pred in enumerate(predictions):\n",
        "    print(f\"Candidato #{i+1}: Prevista probabilidade: {pred[0]}\")"
      ],
      "metadata": {
        "colab": {
          "base_uri": "https://localhost:8080/"
        },
        "id": "190MsMo3ul7R",
        "outputId": "8b63e993-3e10-41fe-add2-6af5ff97f6da"
      },
      "execution_count": 44,
      "outputs": [
        {
          "output_type": "stream",
          "name": "stdout",
          "text": [
            "Candidato #1: Prevista probabilidade: 0.5063186287879944\n",
            "Candidato #2: Prevista probabilidade: 0.27896207571029663\n",
            "Candidato #3: Prevista probabilidade: 0.23156121373176575\n",
            "Candidato #4: Prevista probabilidade: 0.35126087069511414\n"
          ]
        }
      ]
    }
  ]
}
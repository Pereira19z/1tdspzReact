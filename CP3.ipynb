{
  "nbformat": 4,
  "nbformat_minor": 0,
  "metadata": {
    "colab": {
      "provenance": [],
      "authorship_tag": "ABX9TyNzNjPVCqDAf4JFXlRsFN2J",
      "include_colab_link": true
    },
    "kernelspec": {
      "name": "python3",
      "display_name": "Python 3"
    },
    "language_info": {
      "name": "python"
    }
  },
  "cells": [
    {
      "cell_type": "markdown",
      "metadata": {
        "id": "view-in-github",
        "colab_type": "text"
      },
      "source": [
        "<a href=\"https://colab.research.google.com/github/Pereira19z/1tdspzReact/blob/main/CP3.ipynb\" target=\"_parent\"><img src=\"https://colab.research.google.com/assets/colab-badge.svg\" alt=\"Open In Colab\"/></a>"
      ]
    },
    {
      "cell_type": "code",
      "source": [
        "import tensorflow as tf\n",
        "from tensorflow import keras"
      ],
      "metadata": {
        "id": "cWSUHKZnr6px"
      },
      "execution_count": 26,
      "outputs": []
    },
    {
      "cell_type": "code",
      "source": [
        "from tensorflow.keras import layers\n",
        "\n",
        "\n",
        "model = keras.Sequential([\n",
        "    layers.Dense(units=1, input_shape=[1])\n",
        "])\n",
        "\n",
        "model.summary()"
      ],
      "metadata": {
        "colab": {
          "base_uri": "https://localhost:8080/"
        },
        "id": "AIQYdtaxr7jx",
        "outputId": "e7949e5b-c99d-45a9-e362-2cba0cf56c5f"
      },
      "execution_count": 27,
      "outputs": [
        {
          "output_type": "stream",
          "name": "stdout",
          "text": [
            "Model: \"sequential_1\"\n",
            "_________________________________________________________________\n",
            " Layer (type)                Output Shape              Param #   \n",
            "=================================================================\n",
            " dense_1 (Dense)             (None, 1)                 2         \n",
            "                                                                 \n",
            "=================================================================\n",
            "Total params: 2 (8.00 Byte)\n",
            "Trainable params: 2 (8.00 Byte)\n",
            "Non-trainable params: 0 (0.00 Byte)\n",
            "_________________________________________________________________\n"
          ]
        }
      ]
    },
    {
      "cell_type": "code",
      "source": [
        "import pandas as pd\n",
        "from sklearn.model_selection import train_test_split\n",
        "from sklearn.preprocessing import MinMaxScaler\n",
        "from tensorflow.keras.models import Sequential\n",
        "from tensorflow.keras.layers import Dense\n",
        "\n",
        "\n",
        "data = pd.read_csv('/content/prob_admissao.csv')\n",
        "df.info()\n",
        "X = data.iloc[:, :-1]  # Todas as colunas, exceto a última (que é a saída)\n",
        "y = data.iloc[:, -1]   # A última coluna é a saída\n",
        "\n",
        "# Exibir os primeiros registros para verificar se a separação foi feita corretamente\n",
        "print(X.head())\n",
        "print(y.head())\n"
      ],
      "metadata": {
        "colab": {
          "base_uri": "https://localhost:8080/"
        },
        "id": "y6NDLHbBr-v4",
        "outputId": "1df82377-4f23-4c0c-8478-affec248dc5d"
      },
      "execution_count": 33,
      "outputs": [
        {
          "output_type": "stream",
          "name": "stdout",
          "text": [
            "<class 'pandas.core.frame.DataFrame'>\n",
            "RangeIndex: 400 entries, 0 to 399\n",
            "Data columns (total 8 columns):\n",
            " #   Column             Non-Null Count  Dtype  \n",
            "---  ------             --------------  -----  \n",
            " 0   GRE Score          400 non-null    int64  \n",
            " 1   TOEFL Score        400 non-null    int64  \n",
            " 2   University Rating  400 non-null    int64  \n",
            " 3   SOP                400 non-null    float64\n",
            " 4   LOR                400 non-null    float64\n",
            " 5   CGPA               400 non-null    float64\n",
            " 6   Research           400 non-null    int64  \n",
            " 7   Chance of Admit    400 non-null    float64\n",
            "dtypes: float64(4), int64(4)\n",
            "memory usage: 25.1 KB\n",
            "   GRE Score  TOEFL Score  University Rating  SOP  LOR   CGPA  Research\n",
            "0        315          105                  3  2.0   2.5  8.48         0\n",
            "1        321          112                  5  5.0   5.0  9.06         1\n",
            "2        327          103                  3  4.0   4.0  8.30         1\n",
            "3        305          112                  3  3.0   3.5  8.65         0\n",
            "4        297           96                  2  2.5   1.5  7.89         0\n",
            "0    0.75\n",
            "1    0.86\n",
            "2    0.74\n",
            "3    0.71\n",
            "4    0.43\n",
            "Name: Chance of Admit , dtype: float64\n"
          ]
        }
      ]
    },
    {
      "cell_type": "code",
      "source": [
        "scaler = MinMaxScaler()\n",
        "X_normalized = scaler.fit_transform(X)\n",
        "\n",
        "# Dividir os dados em conjunto de treinamento e teste\n",
        "X_train, X_test, y_train, y_test = train_test_split(X_normalized, y, test_size=0.3, random_state=42)\n"
      ],
      "metadata": {
        "id": "Z6rFeU9FuRdi"
      },
      "execution_count": 34,
      "outputs": []
    },
    {
      "cell_type": "code",
      "source": [
        "model = Sequential()"
      ],
      "metadata": {
        "id": "TIE9X5afuSiC"
      },
      "execution_count": 35,
      "outputs": []
    },
    {
      "cell_type": "code",
      "source": [
        "model.add(Dense(1, input_dim=X.shape[1], activation='relu'))\n"
      ],
      "metadata": {
        "id": "tHsXjidzuUuS"
      },
      "execution_count": 36,
      "outputs": []
    },
    {
      "cell_type": "code",
      "source": [
        "model.add(Dense(1, activation='linear'))\n"
      ],
      "metadata": {
        "id": "l6tOmRAfuXIK"
      },
      "execution_count": 37,
      "outputs": []
    },
    {
      "cell_type": "code",
      "source": [
        "model.compile(optimizer='adam', loss='mse')\n"
      ],
      "metadata": {
        "id": "U8Aac34EuYqR"
      },
      "execution_count": 38,
      "outputs": []
    },
    {
      "cell_type": "code",
      "source": [
        "model.summary()\n"
      ],
      "metadata": {
        "colab": {
          "base_uri": "https://localhost:8080/"
        },
        "id": "zS4mboECubaC",
        "outputId": "15e6ea36-a231-4405-ebc5-438d6e521ab2"
      },
      "execution_count": 39,
      "outputs": [
        {
          "output_type": "stream",
          "name": "stdout",
          "text": [
            "Model: \"sequential_2\"\n",
            "_________________________________________________________________\n",
            " Layer (type)                Output Shape              Param #   \n",
            "=================================================================\n",
            " dense_2 (Dense)             (None, 1)                 8         \n",
            "                                                                 \n",
            " dense_3 (Dense)             (None, 1)                 2         \n",
            "                                                                 \n",
            "=================================================================\n",
            "Total params: 10 (40.00 Byte)\n",
            "Trainable params: 10 (40.00 Byte)\n",
            "Non-trainable params: 0 (0.00 Byte)\n",
            "_________________________________________________________________\n"
          ]
        }
      ]
    },
    {
      "cell_type": "code",
      "source": [
        "history = model.fit(X_train, y_train, epochs=10, verbose=1)\n"
      ],
      "metadata": {
        "colab": {
          "base_uri": "https://localhost:8080/"
        },
        "id": "c8NQidmRuc6a",
        "outputId": "0e284233-01c3-4097-d14a-c88d81b3d713"
      },
      "execution_count": 40,
      "outputs": [
        {
          "output_type": "stream",
          "name": "stdout",
          "text": [
            "Epoch 1/10\n",
            "9/9 [==============================] - 1s 3ms/step - loss: 0.1035\n",
            "Epoch 2/10\n",
            "9/9 [==============================] - 0s 3ms/step - loss: 0.0964\n",
            "Epoch 3/10\n",
            "9/9 [==============================] - 0s 2ms/step - loss: 0.0905\n",
            "Epoch 4/10\n",
            "9/9 [==============================] - 0s 3ms/step - loss: 0.0856\n",
            "Epoch 5/10\n",
            "9/9 [==============================] - 0s 2ms/step - loss: 0.0810\n",
            "Epoch 6/10\n",
            "9/9 [==============================] - 0s 2ms/step - loss: 0.0769\n",
            "Epoch 7/10\n",
            "9/9 [==============================] - 0s 4ms/step - loss: 0.0731\n",
            "Epoch 8/10\n",
            "9/9 [==============================] - 0s 3ms/step - loss: 0.0695\n",
            "Epoch 9/10\n",
            "9/9 [==============================] - 0s 2ms/step - loss: 0.0662\n",
            "Epoch 10/10\n",
            "9/9 [==============================] - 0s 3ms/step - loss: 0.0630\n"
          ]
        }
      ]
    },
    {
      "cell_type": "code",
      "source": [
        "candidates = [\n",
        "    [305, 112, 3, 3.0, 3.5, 8.65, 0],\n",
        "    [297, 96, 2, 2.5, 1.5, 7.89, 0],\n",
        "    [305, 103, 2, 2.5, 3.5, 8.13, 0],\n",
        "    [308, 108, 4, 4.5, 5.0, 8.34, 0]\n",
        "]"
      ],
      "metadata": {
        "id": "gGFq8GwXuevi"
      },
      "execution_count": 41,
      "outputs": []
    },
    {
      "cell_type": "code",
      "source": [
        "candidates_normalized = scaler.transform(candidates)\n"
      ],
      "metadata": {
        "colab": {
          "base_uri": "https://localhost:8080/"
        },
        "id": "0rnuK4U8uhAR",
        "outputId": "18ee6cce-ed74-40f9-d903-00b287c20871"
      },
      "execution_count": 42,
      "outputs": [
        {
          "output_type": "stream",
          "name": "stderr",
          "text": [
            "/usr/local/lib/python3.10/dist-packages/sklearn/base.py:439: UserWarning: X does not have valid feature names, but MinMaxScaler was fitted with feature names\n",
            "  warnings.warn(\n"
          ]
        }
      ]
    },
    {
      "cell_type": "code",
      "source": [
        "predictions = model.predict(candidates_normalized)\n"
      ],
      "metadata": {
        "colab": {
          "base_uri": "https://localhost:8080/"
        },
        "id": "pbaG4rZsuil6",
        "outputId": "f218b620-da08-4578-ce84-bf82619cc365"
      },
      "execution_count": 43,
      "outputs": [
        {
          "output_type": "stream",
          "name": "stdout",
          "text": [
            "1/1 [==============================] - 0s 86ms/step\n"
          ]
        }
      ]
    },
    {
      "cell_type": "code",
      "source": [
        "for i, pred in enumerate(predictions):\n",
        "    print(f\"Candidato #{i+1}: Prevista probabilidade: {pred[0]}\")"
      ],
      "metadata": {
        "colab": {
          "base_uri": "https://localhost:8080/"
        },
        "id": "190MsMo3ul7R",
        "outputId": "8b63e993-3e10-41fe-add2-6af5ff97f6da"
      },
      "execution_count": 44,
      "outputs": [
        {
          "output_type": "stream",
          "name": "stdout",
          "text": [
            "Candidato #1: Prevista probabilidade: 0.5063186287879944\n",
            "Candidato #2: Prevista probabilidade: 0.27896207571029663\n",
            "Candidato #3: Prevista probabilidade: 0.23156121373176575\n",
            "Candidato #4: Prevista probabilidade: 0.35126087069511414\n"
          ]
        }
      ]
    },
    {
      "cell_type": "code",
      "source": [
        "import matplotlib.pyplot as plt\n"
      ],
      "metadata": {
        "id": "HzwyiAmyvYAz"
      },
      "execution_count": 45,
      "outputs": []
    },
    {
      "cell_type": "code",
      "source": [
        "model = Sequential()\n"
      ],
      "metadata": {
        "id": "upmrqSkcvY1T"
      },
      "execution_count": 46,
      "outputs": []
    },
    {
      "cell_type": "code",
      "source": [
        "model.add(Dense(3, input_dim=X.shape[1], activation='relu'))\n"
      ],
      "metadata": {
        "id": "5HVsdL1KvaFT"
      },
      "execution_count": 47,
      "outputs": []
    },
    {
      "cell_type": "code",
      "source": [
        "model.add(Dense(1, activation='linear'))\n"
      ],
      "metadata": {
        "id": "6rFJdPBJvbRj"
      },
      "execution_count": 48,
      "outputs": []
    },
    {
      "cell_type": "code",
      "source": [
        "model.compile(optimizer='adam', loss='mse')\n"
      ],
      "metadata": {
        "id": "njUE1VPzvcqS"
      },
      "execution_count": 49,
      "outputs": []
    },
    {
      "cell_type": "code",
      "source": [
        "model.summary()\n"
      ],
      "metadata": {
        "colab": {
          "base_uri": "https://localhost:8080/"
        },
        "id": "ZVWmpa8XveNa",
        "outputId": "fd45dfb1-575b-4fa3-f169-5cce796fc93f"
      },
      "execution_count": 50,
      "outputs": [
        {
          "output_type": "stream",
          "name": "stdout",
          "text": [
            "Model: \"sequential_3\"\n",
            "_________________________________________________________________\n",
            " Layer (type)                Output Shape              Param #   \n",
            "=================================================================\n",
            " dense_4 (Dense)             (None, 3)                 24        \n",
            "                                                                 \n",
            " dense_5 (Dense)             (None, 1)                 4         \n",
            "                                                                 \n",
            "=================================================================\n",
            "Total params: 28 (112.00 Byte)\n",
            "Trainable params: 28 (112.00 Byte)\n",
            "Non-trainable params: 0 (0.00 Byte)\n",
            "_________________________________________________________________\n"
          ]
        }
      ]
    },
    {
      "cell_type": "code",
      "source": [
        "history = model.fit(X_train, y_train, epochs=15, verbose=1)\n"
      ],
      "metadata": {
        "colab": {
          "base_uri": "https://localhost:8080/"
        },
        "id": "ZSw8ju0Ivfqh",
        "outputId": "a09ef04c-e163-43d4-ae9d-e9c266f1c8e9"
      },
      "execution_count": 51,
      "outputs": [
        {
          "output_type": "stream",
          "name": "stdout",
          "text": [
            "Epoch 1/15\n",
            "9/9 [==============================] - 1s 3ms/step - loss: 0.4043\n",
            "Epoch 2/15\n",
            "9/9 [==============================] - 0s 3ms/step - loss: 0.3504\n",
            "Epoch 3/15\n",
            "9/9 [==============================] - 0s 4ms/step - loss: 0.3031\n",
            "Epoch 4/15\n",
            "9/9 [==============================] - 0s 3ms/step - loss: 0.2615\n",
            "Epoch 5/15\n",
            "9/9 [==============================] - 0s 2ms/step - loss: 0.2236\n",
            "Epoch 6/15\n",
            "9/9 [==============================] - 0s 2ms/step - loss: 0.1887\n",
            "Epoch 7/15\n",
            "9/9 [==============================] - 0s 3ms/step - loss: 0.1575\n",
            "Epoch 8/15\n",
            "9/9 [==============================] - 0s 3ms/step - loss: 0.1298\n",
            "Epoch 9/15\n",
            "9/9 [==============================] - 0s 3ms/step - loss: 0.1056\n",
            "Epoch 10/15\n",
            "9/9 [==============================] - 0s 3ms/step - loss: 0.0846\n",
            "Epoch 11/15\n",
            "9/9 [==============================] - 0s 3ms/step - loss: 0.0672\n",
            "Epoch 12/15\n",
            "9/9 [==============================] - 0s 3ms/step - loss: 0.0526\n",
            "Epoch 13/15\n",
            "9/9 [==============================] - 0s 3ms/step - loss: 0.0412\n",
            "Epoch 14/15\n",
            "9/9 [==============================] - 0s 2ms/step - loss: 0.0328\n",
            "Epoch 15/15\n",
            "9/9 [==============================] - 0s 3ms/step - loss: 0.0268\n"
          ]
        }
      ]
    },
    {
      "cell_type": "code",
      "source": [
        "plt.plot(history.history['loss'])\n",
        "plt.title('Model Loss')\n",
        "plt.xlabel('Epoch')\n",
        "plt.ylabel('Loss')\n",
        "plt.show()"
      ],
      "metadata": {
        "colab": {
          "base_uri": "https://localhost:8080/",
          "height": 472
        },
        "id": "mQxG0VUxvhQZ",
        "outputId": "209a567c-0f0f-4517-a7d2-a43545530f52"
      },
      "execution_count": 52,
      "outputs": [
        {
          "output_type": "display_data",
          "data": {
            "text/plain": [
              "<Figure size 640x480 with 1 Axes>"
            ],
            "image/png": "[encoded data removed]"
          },
          "metadata": {}
        }
      ]
    },
    {
      "cell_type": "code",
      "source": [
        "predictions = model.predict(candidates_normalized)\n"
      ],
      "metadata": {
        "colab": {
          "base_uri": "https://localhost:8080/"
        },
        "id": "ULd7oRIfvjXq",
        "outputId": "598e6999-88f9-4a0e-da45-dfee31d88390"
      },
      "execution_count": 53,
      "outputs": [
        {
          "output_type": "stream",
          "name": "stdout",
          "text": [
            "1/1 [==============================] - 0s 192ms/step\n"
          ]
        }
      ]
    },
    {
      "cell_type": "code",
      "source": [
        "for i, pred in enumerate(predictions):\n",
        "    print(f\"Candidato #{i+1}: Prevista probabilidade: {pred[0]}\")"
      ],
      "metadata": {
        "colab": {
          "base_uri": "https://localhost:8080/"
        },
        "id": "nf-ruyKkvlPy",
        "outputId": "707027c2-bb62-4241-aa09-6bf754f46cdd"
      },
      "execution_count": 54,
      "outputs": [
        {
          "output_type": "stream",
          "name": "stdout",
          "text": [
            "Candidato #1: Prevista probabilidade: 0.5353856086730957\n",
            "Candidato #2: Prevista probabilidade: 0.3057989478111267\n",
            "Candidato #3: Prevista probabilidade: 0.4401661157608032\n",
            "Candidato #4: Prevista probabilidade: 0.6626882553100586\n"
          ]
        }
      ]
    },
    {
      "cell_type": "markdown",
      "source": [
        "Parte 3\n",
        "\n",
        "Comparando as duas redes neurais, a segunda, com duas camadas, tende a ter uma capacidade de aprendizado mais complexa, o que pode resultar em uma melhor adaptação aos dados de treinamento e, possivelmente, em melhores resultados de previsão. No entanto, adicionar mais camadas e neurônios não garante necessariamente melhores resultados, e é essencial ajustar os hiperparâmetros e considerar técnicas de regularização e pré-processamento dos dados para melhorar o desempenho do modelo. Em resumo, a escolha da arquitetura e dos hiperparâmetros do modelo depende do problema específico e dos dados disponíveis, sendo necessário experimentar diferentes abordagens e ajustar o modelo com base na análise dos resultados.**texto em negrito**"
      ],
      "metadata": {
        "id": "q1Bf6VPpv0Lf"
      }
    },
    {
      "cell_type": "code",
      "source": [
        "import numpy as np\n",
        "from tensorflow.keras.preprocessing import image\n",
        "\n",
        "\n",
        "## importa o modelo da VGG16 pré-treinado\n",
        "from tensorflow.keras.applications.vgg16 import VGG16, preprocess_input, decode_predictions"
      ],
      "metadata": {
        "id": "vaTHP6IYwVWb"
      },
      "execution_count": 55,
      "outputs": []
    },
    {
      "cell_type": "code",
      "source": [
        "model = VGG16()"
      ],
      "metadata": {
        "colab": {
          "base_uri": "https://localhost:8080/"
        },
        "id": "_nyn0tr3wXCC",
        "outputId": "1cc7fb5c-a272-4960-f081-311a1cf56229"
      },
      "execution_count": 56,
      "outputs": [
        {
          "output_type": "stream",
          "name": "stdout",
          "text": [
            "Downloading data from https://storage.googleapis.com/tensorflow/keras-applications/vgg16/vgg16_weights_tf_dim_ordering_tf_kernels.h5\n",
            "553467096/553467096 [==============================] - 9s 0us/step\n"
          ]
        }
      ]
    },
    {
      "cell_type": "code",
      "source": [
        "!wget https://images.tcdn.com.br/img/img_prod/777105/bicicleta_29_hope_21_velocidades_shimano_freios_disco_tamanho_17_12475_1_ac0b7c63eee851b87bcc9832033c9826.jpg -O /content/bike.jpg\n",
        "img_path = 'bike.jpg'\n",
        "\n",
        "img = image.load_img(img_path, target_size=(224, 224))\n",
        "x = image.img_to_array(img)\n",
        "x = np.expand_dims(x, axis=0)\n",
        "x = preprocess_input(x)\n",
        "print(\"A imagem é carregada e transformada de {}, para {}\".format(img.size,x.shape))"
      ],
      "metadata": {
        "colab": {
          "base_uri": "https://localhost:8080/"
        },
        "id": "hxJHz6AcwcGJ",
        "outputId": "9b5f3a1d-0c3a-49ec-c762-3b9e95c0afd1"
      },
      "execution_count": 58,
      "outputs": [
        {
          "output_type": "stream",
          "name": "stdout",
          "text": [
            "--2024-05-17 22:54:21--  https://images.tcdn.com.br/img/img_prod/777105/bicicleta_29_hope_21_velocidades_shimano_freios_disco_tamanho_17_12475_1_ac0b7c63eee851b87bcc9832033c9826.jpg\n",
            "Resolving images.tcdn.com.br (images.tcdn.com.br)... 179.191.175.70, 179.191.175.67, 206.41.74.20\n",
            "Connecting to images.tcdn.com.br (images.tcdn.com.br)|179.191.175.70|:443... connected.\n",
            "HTTP request sent, awaiting response... 200 OK\n",
            "Length: 286478 (280K) [image/jpeg]\n",
            "Saving to: ‘/content/bike.jpg’\n",
            "\n",
            "/content/bike.jpg   100%[===================>] 279.76K  --.-KB/s    in 0.1s    \n",
            "\n",
            "2024-05-17 22:54:21 (1.93 MB/s) - ‘/content/bike.jpg’ saved [286478/286478]\n",
            "\n",
            "A imagem é carregada e transformada de (224, 224), para (1, 224, 224, 3)\n"
          ]
        }
      ]
    },
    {
      "cell_type": "code",
      "source": [
        "preds = model.predict(x)"
      ],
      "metadata": {
        "colab": {
          "base_uri": "https://localhost:8080/"
        },
        "id": "KNNqzB7awh9a",
        "outputId": "2748892b-c891-43d7-8c32-a019beffb4d6"
      },
      "execution_count": 59,
      "outputs": [
        {
          "output_type": "stream",
          "name": "stdout",
          "text": [
            "1/1 [==============================] - 1s 857ms/step\n"
          ]
        }
      ]
    },
    {
      "cell_type": "code",
      "source": [
        "decoded_preds = decode_predictions(preds)[0]\n",
        "\n",
        "for i, (imagenet_id, label, score) in enumerate(decoded_preds):\n",
        "    print(f\"{i+1}. {label}: {score * 100:.2f}%\")"
      ],
      "metadata": {
        "colab": {
          "base_uri": "https://localhost:8080/"
        },
        "id": "XkQdNVXgwk0S",
        "outputId": "29525b30-16f0-4dec-f610-5438c8fade6d"
      },
      "execution_count": 60,
      "outputs": [
        {
          "output_type": "stream",
          "name": "stdout",
          "text": [
            "Downloading data from https://storage.googleapis.com/download.tensorflow.org/data/imagenet_class_index.json\n",
            "35363/35363 [==============================] - 0s 0us/step\n",
            "1. mountain_bike: 81.78%\n",
            "2. alp: 3.85%\n",
            "3. crash_helmet: 1.90%\n",
            "4. bicycle-built-for-two: 1.73%\n",
            "5. tricycle: 1.70%\n"
          ]
        }
      ]
    },
    {
      "cell_type": "code",
      "source": [
        "from tensorflow.keras.applications.resnet50 import ResNet50, preprocess_input, decode_predictions\n",
        "\n",
        "model = ResNet50(weights='imagenet')"
      ],
      "metadata": {
        "colab": {
          "base_uri": "https://localhost:8080/"
        },
        "id": "7W42ec5DwoiK",
        "outputId": "c6c47f30-585d-4da0-f274-e8984dc37b00"
      },
      "execution_count": 61,
      "outputs": [
        {
          "output_type": "stream",
          "name": "stdout",
          "text": [
            "Downloading data from https://storage.googleapis.com/tensorflow/keras-applications/resnet/resnet50_weights_tf_dim_ordering_tf_kernels.h5\n",
            "102967424/102967424 [==============================] - 1s 0us/step\n"
          ]
        }
      ]
    },
    {
      "cell_type": "code",
      "source": [
        "from tensorflow.keras.applications.resnet50 import ResNet50, preprocess_input, decode_predictions\n",
        "\n",
        "model = ResNet50(weights='imagenet')\n",
        "\n",
        "\n",
        "\n",
        "!wget https://images.tcdn.com.br/img/img_prod/777105/bicicleta_29_hope_21_velocidades_shimano_freios_disco_tamanho_17_12475_1_ac0b7c63eee851b87bcc9832033c9826.jpg -O /content/bike.jpg\n",
        "img_path = 'bike.jpg'\n",
        "\n",
        "\n",
        "\n",
        "img = image.load_img(img_path, target_size=(224, 224))\n",
        "x = image.img_to_array(img)\n",
        "x = np.expand_dims(x, axis=0)\n",
        "x = preprocess_input(x)\n",
        "print(\"A imagem é carregada e transformada de {}, para {}\".format(img.size,x.shape))"
      ],
      "metadata": {
        "colab": {
          "base_uri": "https://localhost:8080/"
        },
        "id": "TEgqefnWwyPj",
        "outputId": "0d00b0d9-4ed5-4709-bb35-4987d14bb9c3"
      },
      "execution_count": 62,
      "outputs": [
        {
          "output_type": "stream",
          "name": "stdout",
          "text": [
            "--2024-05-17 23:00:21--  https://images.tcdn.com.br/img/img_prod/777105/bicicleta_29_hope_21_velocidades_shimano_freios_disco_tamanho_17_12475_1_ac0b7c63eee851b87bcc9832033c9826.jpg\n",
            "Resolving images.tcdn.com.br (images.tcdn.com.br)... 206.41.74.4, 206.41.74.20\n",
            "Connecting to images.tcdn.com.br (images.tcdn.com.br)|206.41.74.4|:443... connected.\n",
            "HTTP request sent, awaiting response... 200 OK\n",
            "Length: 286478 (280K) [image/jpeg]\n",
            "Saving to: ‘/content/bike.jpg’\n",
            "\n",
            "/content/bike.jpg   100%[===================>] 279.76K  1.58MB/s    in 0.2s    \n",
            "\n",
            "2024-05-17 23:00:22 (1.58 MB/s) - ‘/content/bike.jpg’ saved [286478/286478]\n",
            "\n",
            "A imagem é carregada e transformada de (224, 224), para (1, 224, 224, 3)\n"
          ]
        }
      ]
    },
    {
      "cell_type": "code",
      "source": [
        "from tensorflow.keras.applications.efficientnet import EfficientNetB0, preprocess_input, decode_predictions\n",
        "from tensorflow.keras.preprocessing import image\n",
        "import numpy as np\n",
        "\n",
        "model = EfficientNetB0(weights='imagenet')\n",
        "\n",
        "\n",
        "!wget https://images.tcdn.com.br/img/img_prod/777105/bicicleta_29_hope_21_velocidades_shimano_freios_disco_tamanho_17_12475_1_ac0b7c63eee851b87bcc9832033c9826.jpg -O /content/bike.jpg\n",
        "\n",
        "img_path = 'bike.jpg'\n",
        "\n",
        "\n",
        "\n",
        "img = image.load_img(img_path, target_size=(224, 224))\n",
        "\n",
        "x = image.img_to_array(img)\n",
        "\n",
        "x = np.expand_dims(x, axis=0)\n",
        "\n",
        "x = preprocess_input(x)\n",
        "\n",
        "print(\"A imagem é carregada e transformada de {}, para {}\".format(img.size,x.shape))"
      ],
      "metadata": {
        "colab": {
          "base_uri": "https://localhost:8080/"
        },
        "id": "yaWUZk9TyAmc",
        "outputId": "410d6a86-6a3b-416a-efe4-278f4ab63b32"
      },
      "execution_count": 63,
      "outputs": [
        {
          "output_type": "stream",
          "name": "stdout",
          "text": [
            "Downloading data from https://storage.googleapis.com/keras-applications/efficientnetb0.h5\n",
            "21834768/21834768 [==============================] - 0s 0us/step\n",
            "--2024-05-17 23:06:25--  https://images.tcdn.com.br/img/img_prod/777105/bicicleta_29_hope_21_velocidades_shimano_freios_disco_tamanho_17_12475_1_ac0b7c63eee851b87bcc9832033c9826.jpg\n",
            "Resolving images.tcdn.com.br (images.tcdn.com.br)... 206.41.74.20, 179.191.175.70, 179.191.175.67\n",
            "Connecting to images.tcdn.com.br (images.tcdn.com.br)|206.41.74.20|:443... connected.\n",
            "HTTP request sent, awaiting response... 200 OK\n",
            "Length: 286478 (280K) [image/jpeg]\n",
            "Saving to: ‘/content/bike.jpg’\n",
            "\n",
            "/content/bike.jpg   100%[===================>] 279.76K  --.-KB/s    in 0.1s    \n",
            "\n",
            "2024-05-17 23:06:26 (2.27 MB/s) - ‘/content/bike.jpg’ saved [286478/286478]\n",
            "\n",
            "A imagem é carregada e transformada de (224, 224), para (1, 224, 224, 3)\n"
          ]
        }
      ]
    },
    {
      "cell_type": "code",
      "source": [
        "from tensorflow.keras.applications.mobilenet_v2 import MobileNetV2, preprocess_input\n",
        "model = MobileNetV2 (weights='imagenet')\n",
        "\n",
        "\n",
        "!wget https://images.tcdn.com.br/img/img_prod/777105/bicicleta_29_hope_21_velocidades_shimano_freios_disco_tamanho_17_12475_1_ac0b7c63eee851b87bcc9832033c9826.jpg-O /content/bike.jpg\n",
        "\n",
        "img_path = 'bike.jpg'\n",
        "\n",
        "\n",
        "\n",
        "img = image.load_img(img_path, target_size=(224, 224))\n",
        "\n",
        "x = image.img_to_array(img)\n",
        "\n",
        "x = np.expand_dims(x, axis=0)\n",
        "\n",
        "x = preprocess_input(x)"
      ],
      "metadata": {
        "colab": {
          "base_uri": "https://localhost:8080/"
        },
        "id": "zTsoze6jzUeT",
        "outputId": "92c876eb-3984-418d-a53b-351420a35d9b"
      },
      "execution_count": 67,
      "outputs": [
        {
          "output_type": "stream",
          "name": "stdout",
          "text": [
            "--2024-05-17 23:12:38--  https://images.tcdn.com.br/img/img_prod/777105/bicicleta_29_hope_21_velocidades_shimano_freios_disco_tamanho_17_12475_1_ac0b7c63eee851b87bcc9832033c9826.jpg-O\n",
            "Resolving images.tcdn.com.br (images.tcdn.com.br)... 206.41.74.20, 179.191.175.70, 179.191.175.67\n",
            "Connecting to images.tcdn.com.br (images.tcdn.com.br)|206.41.74.20|:443... connected.\n",
            "HTTP request sent, awaiting response... 404 Not Found\n",
            "2024-05-17 23:12:38 ERROR 404: Not Found.\n",
            "\n",
            "/content/bike.jpg: Scheme missing.\n"
          ]
        }
      ]
    }
  ]
}